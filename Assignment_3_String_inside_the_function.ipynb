{
  "nbformat": 4,
  "nbformat_minor": 0,
  "metadata": {
    "colab": {
      "provenance": [],
      "authorship_tag": "ABX9TyO85q3SMrtJ2loD3kOcJTdr",
      "include_colab_link": true
    },
    "kernelspec": {
      "name": "python3",
      "display_name": "Python 3"
    },
    "language_info": {
      "name": "python"
    }
  },
  "cells": [
    {
      "cell_type": "markdown",
      "metadata": {
        "id": "view-in-github",
        "colab_type": "text"
      },
      "source": [
        "<a href=\"https://colab.research.google.com/github/rohitbodke/Assignment-3-String-inside-the-function-/blob/main/Assignment_3_String_inside_the_function.ipynb\" target=\"_parent\"><img src=\"https://colab.research.google.com/assets/colab-badge.svg\" alt=\"Open In Colab\"/></a>"
      ]
    },
    {
      "cell_type": "code",
      "source": [
        "def rev_string(str):\n",
        "  rev_string = ''\n",
        "  index = len(str)\n",
        "  while index > 0:\n",
        "    rev_string = rev_string + str[index-1]\n",
        "    index -=1\n",
        "  return rev_string \n",
        "print(rev_string(\"1234abcd\"))"
      ],
      "metadata": {
        "colab": {
          "base_uri": "https://localhost:8080/"
        },
        "id": "8O7O9a3pFXdD",
        "outputId": "a7bf265f-0e26-4cf5-a9ab-ce8159d486ff"
      },
      "execution_count": null,
      "outputs": [
        {
          "output_type": "stream",
          "name": "stdout",
          "text": [
            "dcba4321\n"
          ]
        }
      ]
    }
  ]
}